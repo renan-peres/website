{
  "cells": [
    {
      "cell_type": "markdown",
      "metadata": {},
      "source": [
        "---\n",
        "title: \"Stock Explorer\"\n",
        "format: \n",
        "  dashboard:\n",
        "    theme: [yeti, custom.scss]\n",
        "    html-math-method: katex\n",
        "    code-tools: true\n",
        "    self-contained: true\n",
        "    embed-resources: true\n",
        "    page-layout: full\n",
        "---"
      ],
      "id": "568f0f87"
    },
    {
      "cell_type": "code",
      "metadata": {
        "tags": [
          "parameters"
        ]
      },
      "source": [
        "# to render w/ a different ticker parameter:\n",
        "# quarto render dashboard.qmd -P ticker:GOOG\n",
        "\n",
        "tickers = [\"BA\", \"AAPL\", \"GOOG\"]"
      ],
      "id": "65c07acd",
      "execution_count": null,
      "outputs": []
    },
    {
      "cell_type": "code",
      "metadata": {},
      "source": [
        "import helpers\n",
        "stocks = {ticker: helpers.get_stock(ticker) for ticker in tickers}\n",
        "data = {ticker: helpers.get_data(stocks[ticker]) for ticker in tickers}"
      ],
      "id": "2881406c",
      "execution_count": null,
      "outputs": []
    },
    {
      "cell_type": "markdown",
      "metadata": {},
      "source": [
        "## Row\n"
      ],
      "id": "80153443"
    },
    {
      "cell_type": "code",
      "metadata": {},
      "source": [
        "from IPython.display import Markdown\n",
        "for ticker in tickers:\n",
        "    stock = helpers.get_stock(ticker)\n",
        "    data = helpers.get_data(stock)\n",
        "    change = helpers.get_change(data)\n",
        "    ohlc = helpers.make_OHLC_table(data)"
      ],
      "id": "9ab19876",
      "execution_count": null,
      "outputs": []
    },
    {
      "cell_type": "markdown",
      "metadata": {},
      "source": [
        "## Row\n"
      ],
      "id": "f7666f25"
    },
    {
      "cell_type": "code",
      "metadata": {
        "content": "valuebox",
        "title": "Current Price"
      },
      "source": [
        "dict(\n",
        "    icon = \"currency-dollar\",\n",
        "    color = \"secondary\",\n",
        "    value = helpers.get_price(data)\n",
        ")"
      ],
      "id": "df615d4f",
      "execution_count": null,
      "outputs": []
    },
    {
      "cell_type": "code",
      "metadata": {
        "content": "valuebox",
        "title": "Change"
      },
      "source": [
        "change = helpers.get_change(data)\n",
        "dict(\n",
        "    value = change['amount'],\n",
        "    icon = change['icon'],\n",
        "    color = change['color']\n",
        ") "
      ],
      "id": "88384216",
      "execution_count": null,
      "outputs": []
    },
    {
      "cell_type": "code",
      "metadata": {
        "content": "valuebox",
        "title": "Percent Change"
      },
      "source": [
        "dict(\n",
        "    icon = \"percent\",\n",
        "    color = \"light\",\n",
        "    value = change['percent'],\n",
        ") "
      ],
      "id": "29115999",
      "execution_count": null,
      "outputs": []
    },
    {
      "cell_type": "markdown",
      "metadata": {},
      "source": [
        "## Row\n",
        "\n",
        "### Column {width=75%}\n"
      ],
      "id": "5dc35d6c"
    },
    {
      "cell_type": "code",
      "metadata": {
        "title": "Price History",
        "padding": 0
      },
      "source": [
        "helpers.make_candlestick_chart(data, ticker.upper())"
      ],
      "id": "53ce5fe3",
      "execution_count": null,
      "outputs": []
    },
    {
      "cell_type": "markdown",
      "metadata": {},
      "source": [
        "### Column {width=25%}\n"
      ],
      "id": "82b7c90b"
    },
    {
      "cell_type": "code",
      "metadata": {},
      "source": [
        "ohlc = helpers.make_OHLC_table(data)"
      ],
      "id": "6a154a58",
      "execution_count": null,
      "outputs": []
    },
    {
      "cell_type": "markdown",
      "metadata": {},
      "source": [
        "::: {.card}\n",
        "\n",
        "#### Last Close: `{python} ohlc['date']`\n",
        "\n",
        "| Close\t | `{python} ohlc['close']`  |\n",
        "|:-------|--------------------------:|\n",
        "| Open\t | `{python} ohlc['open']`   |\n",
        "| High\t | `{python} ohlc['high']`   |\n",
        "| Low\t | `{python} ohlc['low']`    |\n",
        "| Volume | `{python} ohlc['volume']` |\n",
        ": {.striped}"
      ],
      "id": "849ac06e"
    }
  ],
  "metadata": {
    "kernelspec": {
      "display_name": "Python 3",
      "language": "python",
      "name": "python3"
    }
  },
  "nbformat": 4,
  "nbformat_minor": 5
}